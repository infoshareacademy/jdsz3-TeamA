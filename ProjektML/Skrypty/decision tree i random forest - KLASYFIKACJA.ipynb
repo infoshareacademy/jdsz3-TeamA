{
 "cells": [
  {
   "cell_type": "code",
   "execution_count": 59,
   "metadata": {},
   "outputs": [],
   "source": [
    "%matplotlib inline\n",
    "from sklearn.preprocessing import MinMaxScaler\n",
    "import numpy as np\n",
    "import pandas as pd\n",
    "from sklearn.tree import DecisionTreeClassifier # Import Decision Tree Classifier\n",
    "from sklearn.model_selection import train_test_split # Import train_test_split function\n",
    "from sklearn import metrics #Import scikit-learn metrics module for accuracy calculation\n",
    "from sklearn import tree\n",
    "import matplotlib.pyplot as plt\n",
    "from sklearn.ensemble import RandomForestClassifier\n",
    "df = pd.read_csv('Carseats_Clean.csv')"
   ]
  },
  {
   "cell_type": "code",
   "execution_count": 60,
   "metadata": {
    "scrolled": true
   },
   "outputs": [
    {
     "data": {
      "text/html": [
       "<div>\n",
       "<style scoped>\n",
       "    .dataframe tbody tr th:only-of-type {\n",
       "        vertical-align: middle;\n",
       "    }\n",
       "\n",
       "    .dataframe tbody tr th {\n",
       "        vertical-align: top;\n",
       "    }\n",
       "\n",
       "    .dataframe thead th {\n",
       "        text-align: right;\n",
       "    }\n",
       "</style>\n",
       "<table border=\"1\" class=\"dataframe\">\n",
       "  <thead>\n",
       "    <tr style=\"text-align: right;\">\n",
       "      <th></th>\n",
       "      <th>Sales</th>\n",
       "      <th>CompPrice</th>\n",
       "      <th>Income</th>\n",
       "      <th>Advertising</th>\n",
       "      <th>Population</th>\n",
       "      <th>Price</th>\n",
       "      <th>Age</th>\n",
       "      <th>Education</th>\n",
       "      <th>Urban</th>\n",
       "      <th>US</th>\n",
       "      <th>ShelveLoc_Bad</th>\n",
       "      <th>ShelveLoc_Good</th>\n",
       "      <th>ShelveLoc_Medium</th>\n",
       "    </tr>\n",
       "  </thead>\n",
       "  <tbody>\n",
       "    <tr>\n",
       "      <th>0</th>\n",
       "      <td>9.50</td>\n",
       "      <td>138</td>\n",
       "      <td>73</td>\n",
       "      <td>11</td>\n",
       "      <td>276</td>\n",
       "      <td>120</td>\n",
       "      <td>42</td>\n",
       "      <td>17</td>\n",
       "      <td>1</td>\n",
       "      <td>1</td>\n",
       "      <td>1</td>\n",
       "      <td>0</td>\n",
       "      <td>0</td>\n",
       "    </tr>\n",
       "    <tr>\n",
       "      <th>1</th>\n",
       "      <td>11.22</td>\n",
       "      <td>111</td>\n",
       "      <td>48</td>\n",
       "      <td>16</td>\n",
       "      <td>260</td>\n",
       "      <td>83</td>\n",
       "      <td>65</td>\n",
       "      <td>10</td>\n",
       "      <td>1</td>\n",
       "      <td>1</td>\n",
       "      <td>0</td>\n",
       "      <td>1</td>\n",
       "      <td>0</td>\n",
       "    </tr>\n",
       "    <tr>\n",
       "      <th>2</th>\n",
       "      <td>10.06</td>\n",
       "      <td>113</td>\n",
       "      <td>35</td>\n",
       "      <td>10</td>\n",
       "      <td>269</td>\n",
       "      <td>80</td>\n",
       "      <td>59</td>\n",
       "      <td>12</td>\n",
       "      <td>1</td>\n",
       "      <td>1</td>\n",
       "      <td>0</td>\n",
       "      <td>0</td>\n",
       "      <td>1</td>\n",
       "    </tr>\n",
       "    <tr>\n",
       "      <th>3</th>\n",
       "      <td>7.40</td>\n",
       "      <td>117</td>\n",
       "      <td>100</td>\n",
       "      <td>4</td>\n",
       "      <td>466</td>\n",
       "      <td>97</td>\n",
       "      <td>55</td>\n",
       "      <td>14</td>\n",
       "      <td>1</td>\n",
       "      <td>1</td>\n",
       "      <td>0</td>\n",
       "      <td>0</td>\n",
       "      <td>1</td>\n",
       "    </tr>\n",
       "    <tr>\n",
       "      <th>4</th>\n",
       "      <td>4.15</td>\n",
       "      <td>141</td>\n",
       "      <td>64</td>\n",
       "      <td>3</td>\n",
       "      <td>340</td>\n",
       "      <td>128</td>\n",
       "      <td>38</td>\n",
       "      <td>13</td>\n",
       "      <td>1</td>\n",
       "      <td>0</td>\n",
       "      <td>1</td>\n",
       "      <td>0</td>\n",
       "      <td>0</td>\n",
       "    </tr>\n",
       "  </tbody>\n",
       "</table>\n",
       "</div>"
      ],
      "text/plain": [
       "   Sales  CompPrice  Income  Advertising  Population  Price  Age  Education  \\\n",
       "0   9.50        138      73           11         276    120   42         17   \n",
       "1  11.22        111      48           16         260     83   65         10   \n",
       "2  10.06        113      35           10         269     80   59         12   \n",
       "3   7.40        117     100            4         466     97   55         14   \n",
       "4   4.15        141      64            3         340    128   38         13   \n",
       "\n",
       "   Urban  US  ShelveLoc_Bad  ShelveLoc_Good  ShelveLoc_Medium  \n",
       "0      1   1              1               0                 0  \n",
       "1      1   1              0               1                 0  \n",
       "2      1   1              0               0                 1  \n",
       "3      1   1              0               0                 1  \n",
       "4      1   0              1               0                 0  "
      ]
     },
     "execution_count": 60,
     "metadata": {},
     "output_type": "execute_result"
    }
   ],
   "source": [
    "df.head()"
   ]
  },
  {
   "cell_type": "code",
   "execution_count": 61,
   "metadata": {
    "scrolled": true
   },
   "outputs": [
    {
     "data": {
      "text/html": [
       "<div>\n",
       "<style scoped>\n",
       "    .dataframe tbody tr th:only-of-type {\n",
       "        vertical-align: middle;\n",
       "    }\n",
       "\n",
       "    .dataframe tbody tr th {\n",
       "        vertical-align: top;\n",
       "    }\n",
       "\n",
       "    .dataframe thead th {\n",
       "        text-align: right;\n",
       "    }\n",
       "</style>\n",
       "<table border=\"1\" class=\"dataframe\">\n",
       "  <thead>\n",
       "    <tr style=\"text-align: right;\">\n",
       "      <th></th>\n",
       "      <th>Sales</th>\n",
       "      <th>CompPrice</th>\n",
       "      <th>Income</th>\n",
       "      <th>Advertising</th>\n",
       "      <th>Population</th>\n",
       "      <th>Price</th>\n",
       "      <th>Age</th>\n",
       "      <th>Education</th>\n",
       "      <th>Urban</th>\n",
       "      <th>US</th>\n",
       "      <th>ShelveLoc_Bad</th>\n",
       "      <th>ShelveLoc_Good</th>\n",
       "      <th>ShelveLoc_Medium</th>\n",
       "      <th>Sales_class</th>\n",
       "    </tr>\n",
       "  </thead>\n",
       "  <tbody>\n",
       "    <tr>\n",
       "      <th>0</th>\n",
       "      <td>9.50</td>\n",
       "      <td>138</td>\n",
       "      <td>73</td>\n",
       "      <td>11</td>\n",
       "      <td>276</td>\n",
       "      <td>120</td>\n",
       "      <td>42</td>\n",
       "      <td>17</td>\n",
       "      <td>1</td>\n",
       "      <td>1</td>\n",
       "      <td>1</td>\n",
       "      <td>0</td>\n",
       "      <td>0</td>\n",
       "      <td>2</td>\n",
       "    </tr>\n",
       "    <tr>\n",
       "      <th>1</th>\n",
       "      <td>11.22</td>\n",
       "      <td>111</td>\n",
       "      <td>48</td>\n",
       "      <td>16</td>\n",
       "      <td>260</td>\n",
       "      <td>83</td>\n",
       "      <td>65</td>\n",
       "      <td>10</td>\n",
       "      <td>1</td>\n",
       "      <td>1</td>\n",
       "      <td>0</td>\n",
       "      <td>1</td>\n",
       "      <td>0</td>\n",
       "      <td>2</td>\n",
       "    </tr>\n",
       "    <tr>\n",
       "      <th>2</th>\n",
       "      <td>10.06</td>\n",
       "      <td>113</td>\n",
       "      <td>35</td>\n",
       "      <td>10</td>\n",
       "      <td>269</td>\n",
       "      <td>80</td>\n",
       "      <td>59</td>\n",
       "      <td>12</td>\n",
       "      <td>1</td>\n",
       "      <td>1</td>\n",
       "      <td>0</td>\n",
       "      <td>0</td>\n",
       "      <td>1</td>\n",
       "      <td>2</td>\n",
       "    </tr>\n",
       "    <tr>\n",
       "      <th>3</th>\n",
       "      <td>7.40</td>\n",
       "      <td>117</td>\n",
       "      <td>100</td>\n",
       "      <td>4</td>\n",
       "      <td>466</td>\n",
       "      <td>97</td>\n",
       "      <td>55</td>\n",
       "      <td>14</td>\n",
       "      <td>1</td>\n",
       "      <td>1</td>\n",
       "      <td>0</td>\n",
       "      <td>0</td>\n",
       "      <td>1</td>\n",
       "      <td>1</td>\n",
       "    </tr>\n",
       "    <tr>\n",
       "      <th>4</th>\n",
       "      <td>4.15</td>\n",
       "      <td>141</td>\n",
       "      <td>64</td>\n",
       "      <td>3</td>\n",
       "      <td>340</td>\n",
       "      <td>128</td>\n",
       "      <td>38</td>\n",
       "      <td>13</td>\n",
       "      <td>1</td>\n",
       "      <td>0</td>\n",
       "      <td>1</td>\n",
       "      <td>0</td>\n",
       "      <td>0</td>\n",
       "      <td>0</td>\n",
       "    </tr>\n",
       "  </tbody>\n",
       "</table>\n",
       "</div>"
      ],
      "text/plain": [
       "   Sales  CompPrice  Income  Advertising  Population  Price  Age  Education  \\\n",
       "0   9.50        138      73           11         276    120   42         17   \n",
       "1  11.22        111      48           16         260     83   65         10   \n",
       "2  10.06        113      35           10         269     80   59         12   \n",
       "3   7.40        117     100            4         466     97   55         14   \n",
       "4   4.15        141      64            3         340    128   38         13   \n",
       "\n",
       "   Urban  US  ShelveLoc_Bad  ShelveLoc_Good  ShelveLoc_Medium  Sales_class  \n",
       "0      1   1              1               0                 0            2  \n",
       "1      1   1              0               1                 0            2  \n",
       "2      1   1              0               0                 1            2  \n",
       "3      1   1              0               0                 1            1  \n",
       "4      1   0              1               0                 0            0  "
      ]
     },
     "execution_count": 61,
     "metadata": {},
     "output_type": "execute_result"
    }
   ],
   "source": [
    "df_cls = df\n",
    "df_cls['Sales_class'] = ''\n",
    "\n",
    "przedzialy = {}\n",
    "\n",
    "df_cls['Sales_class'] = np.where(df_cls['Sales'] < df_cls['Sales'].quantile(0.333), 0, np.where(df_cls['Sales'] < df_cls['Sales'].quantile(0.666), 1, 2))\n",
    "\n",
    "df.head()"
   ]
  },
  {
   "cell_type": "markdown",
   "metadata": {},
   "source": [
    "Podział na dane testowe i treningowe"
   ]
  },
  {
   "cell_type": "code",
   "execution_count": 62,
   "metadata": {},
   "outputs": [],
   "source": [
    "X = df.drop(['Sales','Sales_class'], axis=1).values.astype('float')\n",
    "y = df['Sales_class'].values.astype('float') \n",
    "\n",
    "\n",
    "X_train, X_test, y_train, y_test = train_test_split(X, y, test_size=0.3, random_state=1)"
   ]
  },
  {
   "cell_type": "markdown",
   "metadata": {},
   "source": [
    "Normalizacja"
   ]
  },
  {
   "cell_type": "code",
   "execution_count": 106,
   "metadata": {},
   "outputs": [],
   "source": [
    "scaler = MinMaxScaler()\n",
    "scaler.fit(X_train)\n",
    "norm_x_train = scaler.transform(X_train)\n",
    "norm_x_test = scaler.transform(X_test)"
   ]
  },
  {
   "cell_type": "markdown",
   "metadata": {},
   "source": [
    "Drzewo"
   ]
  },
  {
   "cell_type": "code",
   "execution_count": 107,
   "metadata": {},
   "outputs": [],
   "source": [
    "mytree1 = tree.DecisionTreeClassifier()"
   ]
  },
  {
   "cell_type": "code",
   "execution_count": 108,
   "metadata": {
    "scrolled": true
   },
   "outputs": [
    {
     "data": {
      "text/plain": [
       "DecisionTreeClassifier(class_weight=None, criterion='gini', max_depth=None,\n",
       "            max_features=None, max_leaf_nodes=None,\n",
       "            min_impurity_decrease=0.0, min_impurity_split=None,\n",
       "            min_samples_leaf=1, min_samples_split=2,\n",
       "            min_weight_fraction_leaf=0.0, presort=False, random_state=None,\n",
       "            splitter='best')"
      ]
     },
     "execution_count": 108,
     "metadata": {},
     "output_type": "execute_result"
    }
   ],
   "source": [
    "mytree1.fit(norm_x_train, y_train)"
   ]
  },
  {
   "cell_type": "code",
   "execution_count": 109,
   "metadata": {
    "scrolled": true
   },
   "outputs": [
    {
     "data": {
      "text/plain": [
       "{'class_weight': None,\n",
       " 'criterion': 'gini',\n",
       " 'max_depth': None,\n",
       " 'max_features': None,\n",
       " 'max_leaf_nodes': None,\n",
       " 'min_impurity_decrease': 0.0,\n",
       " 'min_impurity_split': None,\n",
       " 'min_samples_leaf': 1,\n",
       " 'min_samples_split': 2,\n",
       " 'min_weight_fraction_leaf': 0.0,\n",
       " 'presort': False,\n",
       " 'random_state': None,\n",
       " 'splitter': 'best'}"
      ]
     },
     "execution_count": 109,
     "metadata": {},
     "output_type": "execute_result"
    }
   ],
   "source": [
    "mytree1.get_params()"
   ]
  },
  {
   "cell_type": "markdown",
   "metadata": {},
   "source": [
    "Struktura drzewa"
   ]
  },
  {
   "cell_type": "code",
   "execution_count": 110,
   "metadata": {
    "scrolled": true
   },
   "outputs": [
    {
     "name": "stdout",
     "output_type": "stream",
     "text": [
      "Number of nodes:  123\n",
      "Left child indices: [  1   2   3   4   5  -1  -1  -1   9  -1  11  12  13  14  -1  -1  -1  -1\n",
      "  19  20  21  -1  -1  24  25  -1  -1  -1  -1  30  31  32  33  -1  35  -1\n",
      "  -1  38  -1  -1  41  42  43  44  -1  -1  -1  -1  -1  50  51  52  53  -1\n",
      "  -1  56  57  -1  59  60  -1  -1  63  -1  -1  -1  67  68  69  70  71  72\n",
      "  -1  -1  75  -1  -1  -1  79  -1  -1  82  -1  -1  85  -1  -1  88  89  -1\n",
      "  -1  92  93  -1  -1  -1  97  98  99  -1  -1 102  -1  -1 105 106 107 108\n",
      " 109  -1  -1  -1 113 114  -1 116  -1  -1  -1 120  -1  -1  -1]\n",
      "Right child indices: [ 96  29   8   7   6  -1  -1  -1  10  -1  18  17  16  15  -1  -1  -1  -1\n",
      "  28  23  22  -1  -1  27  26  -1  -1  -1  -1  49  40  37  34  -1  36  -1\n",
      "  -1  39  -1  -1  48  47  46  45  -1  -1  -1  -1  -1  87  66  55  54  -1\n",
      "  -1  65  58  -1  62  61  -1  -1  64  -1  -1  -1  84  81  78  77  74  73\n",
      "  -1  -1  76  -1  -1  -1  80  -1  -1  83  -1  -1  86  -1  -1  91  90  -1\n",
      "  -1  95  94  -1  -1  -1 104 101 100  -1  -1 103  -1  -1 122 119 112 111\n",
      " 110  -1  -1  -1 118 115  -1 117  -1  -1  -1 121  -1  -1  -1]\n",
      "Split features: [ 9  4  5  0  4 -2 -2 -2 11 -2  2  4  3  1 -2 -2 -2 -2  0  4  2 -2 -2  3\n",
      "  3 -2 -2 -2 -2 11  4  2  0 -2  5 -2 -2  3 -2 -2  0  1  0  5 -2 -2 -2 -2\n",
      " -2  2  3  3  4 -2 -2  0  6 -2  5  3 -2 -2  3 -2 -2 -2  0  2  1  4  6  8\n",
      " -2 -2  2 -2 -2 -2  1 -2 -2  6 -2 -2  4 -2 -2  6  4 -2 -2  1  3 -2 -2 -2\n",
      "  4  0  1 -2 -2  0 -2 -2  0  2  0  5  4 -2 -2 -2  4  2 -2  3 -2 -2 -2  0\n",
      " -2 -2 -2]\n",
      "Threshold values: [ 0.5         0.57382551  0.46363637  0.28823531  0.48657717 -2.\n",
      " -2.         -2.          0.5        -2.          0.1923077   0.45637585\n",
      "  0.39579159  0.84848487 -2.         -2.         -2.         -2.\n",
      "  0.50588237  0.45637584  0.42307693 -2.         -2.          0.62224451\n",
      "  0.24448898 -2.         -2.         -2.         -2.          0.5\n",
      "  0.74496645  0.23076924  0.61764708 -2.          0.75454545 -2.\n",
      " -2.          0.96593186 -2.         -2.          0.93529412  0.85858586\n",
      "  0.5529412   0.84545454 -2.         -2.         -2.         -2.\n",
      " -2.          0.51923078  0.27254508  0.04408818  0.63422817 -2.\n",
      " -2.          0.6529412   0.1875     -2.          0.40909091  0.15931863\n",
      " -2.         -2.          0.08016032 -2.         -2.         -2.\n",
      "  0.83529413  0.36538462  0.63636363  0.68456379  0.1875      0.5\n",
      " -2.         -2.          0.21153846 -2.         -2.         -2.\n",
      "  0.70707071 -2.         -2.          0.875      -2.         -2.\n",
      "  0.82550335 -2.         -2.          0.0625      0.74832213 -2.\n",
      " -2.          0.78787878  0.12424849 -2.         -2.         -2.\n",
      "  0.46308725  0.5529412   0.11616161 -2.         -2.          0.67647061\n",
      " -2.         -2.          0.87058824  0.71153846  0.64117649  0.03636364\n",
      "  0.5805369  -2.         -2.         -2.          0.72147653  0.09615385\n",
      " -2.          0.62525052 -2.         -2.         -2.          0.60000002\n",
      " -2.         -2.         -2.        ]\n"
     ]
    }
   ],
   "source": [
    "print(\"Number of nodes: \", mytree1.tree_.node_count)\n",
    "print(\"Left child indices:\", mytree1.tree_.children_left)\n",
    "print(\"Right child indices:\",mytree1.tree_.children_right)\n",
    "print(\"Split features:\", mytree1.tree_.feature)\n",
    "print(\"Threshold values:\", mytree1.tree_.threshold)"
   ]
  },
  {
   "cell_type": "markdown",
   "metadata": {},
   "source": [
    "lista indeksów wszystkich liści drzewa"
   ]
  },
  {
   "cell_type": "code",
   "execution_count": 111,
   "metadata": {},
   "outputs": [
    {
     "name": "stdout",
     "output_type": "stream",
     "text": [
      "5\n",
      "6\n",
      "7\n",
      "9\n",
      "14\n",
      "15\n",
      "16\n",
      "17\n",
      "21\n",
      "22\n",
      "25\n",
      "26\n",
      "27\n",
      "28\n",
      "33\n",
      "35\n",
      "36\n",
      "38\n",
      "39\n",
      "44\n",
      "45\n",
      "46\n",
      "47\n",
      "48\n",
      "53\n",
      "54\n",
      "57\n",
      "60\n",
      "61\n",
      "63\n",
      "64\n",
      "65\n",
      "72\n",
      "73\n",
      "75\n",
      "76\n",
      "77\n",
      "79\n",
      "80\n",
      "82\n",
      "83\n",
      "85\n",
      "86\n",
      "89\n",
      "90\n",
      "93\n",
      "94\n",
      "95\n",
      "99\n",
      "100\n",
      "102\n",
      "103\n",
      "109\n",
      "110\n",
      "111\n",
      "114\n",
      "116\n",
      "117\n",
      "118\n",
      "120\n",
      "121\n",
      "122\n"
     ]
    }
   ],
   "source": [
    "for i, (l, r) in enumerate(zip(mytree1.tree_.children_left, mytree1.tree_.children_right)):\n",
    "    if l == -1 and r == -1:\n",
    "        print(i)"
   ]
  },
  {
   "cell_type": "markdown",
   "metadata": {},
   "source": [
    "Mean accuracy"
   ]
  },
  {
   "cell_type": "code",
   "execution_count": 112,
   "metadata": {
    "scrolled": true
   },
   "outputs": [
    {
     "name": "stdout",
     "output_type": "stream",
     "text": [
      "Mean accuracy:  0.54375\n"
     ]
    },
    {
     "data": {
      "text/plain": [
       "array([[28, 24,  1],\n",
       "       [16, 29,  8],\n",
       "       [ 6, 18, 30]], dtype=int64)"
      ]
     },
     "execution_count": 112,
     "metadata": {},
     "output_type": "execute_result"
    }
   ],
   "source": [
    "from sklearn.model_selection import train_test_split\n",
    "from sklearn.metrics import confusion_matrix\n",
    "\n",
    "data_train, data_test, target_train, target_test = train_test_split(X, y, test_size=0.4, stratify=y, random_state=777)\n",
    "mytree1.fit(data_train, target_train)\n",
    "\n",
    "print(\"Mean accuracy: \", mytree1.score(data_test, target_test))\n",
    "confusion_matrix(target_test, mytree1.predict(data_test))"
   ]
  },
  {
   "cell_type": "markdown",
   "metadata": {},
   "source": [
    "cross validation"
   ]
  },
  {
   "cell_type": "code",
   "execution_count": 70,
   "metadata": {},
   "outputs": [],
   "source": [
    "from sklearn.model_selection import cross_val_score\n",
    "results = cross_val_score(mytree1, X, y, cv=5)"
   ]
  },
  {
   "cell_type": "code",
   "execution_count": 71,
   "metadata": {
    "scrolled": true
   },
   "outputs": [
    {
     "name": "stdout",
     "output_type": "stream",
     "text": [
      "Mean accuracy in each iteration:  [0.54320988 0.62962963 0.61728395 0.59493671 0.64102564]\n",
      "Mean accuracy (with 95% conf. intervals): 0.61 (+/- 0.07)\n"
     ]
    }
   ],
   "source": [
    "print(\"Mean accuracy in each iteration: \", results)\n",
    "print(\"Mean accuracy (with 95%% conf. intervals): %0.2f (+/- %0.2f)\" % (results.mean(), results.std() * 2))"
   ]
  },
  {
   "cell_type": "markdown",
   "metadata": {},
   "source": [
    "cross val predykcje"
   ]
  },
  {
   "cell_type": "code",
   "execution_count": 72,
   "metadata": {
    "scrolled": true
   },
   "outputs": [
    {
     "data": {
      "text/plain": [
       "array([0., 1., 2., 1., 1., 1., 1., 1., 1., 0., 2., 2., 0., 2., 2., 0., 2.,\n",
       "       2., 1., 2., 1., 1., 0., 1., 1., 2., 2., 1., 0., 0., 1., 1., 1., 2.,\n",
       "       0., 2., 2., 0., 0., 0., 0., 1., 2., 0., 0., 1., 1., 0., 1., 1., 0.,\n",
       "       0., 1., 0., 0., 0., 2., 0., 0., 1., 0., 0., 0., 0., 2., 1., 2., 1.,\n",
       "       2., 1., 2., 1., 1., 2., 2., 1., 2., 0., 0., 2., 2., 1., 2., 0., 0.,\n",
       "       1., 2., 1., 0., 1., 0., 1., 1., 1., 1., 0., 2., 1., 2., 0., 1., 2.,\n",
       "       0., 1., 0., 0., 0., 0., 0., 1., 1., 1., 1., 0., 2., 2., 1., 1., 1.,\n",
       "       1., 0., 1., 1., 1., 2., 2., 2., 1., 0., 1., 2., 1., 1., 2., 0., 1.,\n",
       "       0., 1., 1., 2., 1., 0., 2., 0., 1., 1., 0., 2., 1., 2., 2., 2., 1.,\n",
       "       2., 1., 2., 2., 2., 2., 1., 0., 0., 0., 2., 0., 1., 0., 2., 2., 2.,\n",
       "       1., 2., 2., 0., 0., 0., 0., 2., 2., 0., 0., 1., 1., 1., 1., 1., 2.,\n",
       "       1., 1., 1., 2., 0., 2., 2., 2., 0., 0., 0., 2., 1., 1., 0., 0., 1.,\n",
       "       2., 0., 0., 0., 1., 0., 0., 1., 2., 1., 1., 0., 2., 0., 2., 2., 2.,\n",
       "       0., 1., 0., 0., 0., 2., 1., 1., 1., 0., 2., 2., 2., 2., 0., 2., 0.,\n",
       "       1., 0., 2., 2., 0., 1., 0., 2., 1., 0., 1., 0., 2., 0., 2., 1., 1.,\n",
       "       2., 1., 1., 1., 0., 1., 1., 2., 0., 2., 0., 2., 0., 1., 0., 2., 2.,\n",
       "       2., 2., 1., 1., 0., 2., 1., 0., 2., 2., 0., 1., 0., 0., 1., 2., 1.,\n",
       "       1., 2., 2., 2., 2., 2., 0., 2., 2., 1., 2., 1., 2., 0., 2., 1., 1.,\n",
       "       0., 2., 2., 2., 1., 1., 0., 1., 2., 1., 2., 1., 2., 1., 0., 1., 2.,\n",
       "       1., 0., 2., 1., 0., 0., 2., 0., 0., 2., 0., 1., 1., 0., 1., 1., 2.,\n",
       "       2., 1., 2., 0., 2., 1., 1., 2., 2., 2., 1., 2., 2., 1., 1., 2., 1.,\n",
       "       2., 0., 0., 2., 2., 0., 2., 1., 1., 0., 2., 2., 2., 1., 2., 0., 1.,\n",
       "       2., 1., 2., 1., 1., 0., 1., 1., 1., 2., 2., 1., 0., 2., 2., 2., 1.,\n",
       "       1., 0., 1., 1., 2., 1., 2., 0., 2.])"
      ]
     },
     "execution_count": 72,
     "metadata": {},
     "output_type": "execute_result"
    }
   ],
   "source": [
    "from sklearn.model_selection import cross_val_predict\n",
    "cross_val_predict(mytree1, X, y, cv=5)"
   ]
  },
  {
   "cell_type": "markdown",
   "metadata": {},
   "source": [
    "liczba i indeksy przykładów błędnie sklasyfikowanych podczas 10-krotnej walidacji krzyżowej"
   ]
  },
  {
   "cell_type": "code",
   "execution_count": 73,
   "metadata": {
    "scrolled": false
   },
   "outputs": [
    {
     "name": "stdout",
     "output_type": "stream",
     "text": [
      "[0, 4, 6, 9, 15, 16, 19, 20, 24, 25, 26, 27, 31, 32, 38, 42, 45, 48, 49, 54, 55, 59, 60, 61, 62, 63, 64, 65, 66, 67, 71, 72, 75, 77, 79, 80, 83, 85, 86, 88, 91, 92, 94, 100, 101, 103, 105, 108, 111, 112, 115, 116, 117, 118, 119, 124, 126, 129, 131, 132, 133, 135, 136, 138, 140, 141, 144, 148, 149, 153, 154, 155, 156, 161, 163, 164, 165, 166, 167, 170, 174, 179, 188, 189, 191, 192, 198, 200, 201, 206, 207, 208, 213, 214, 217, 218, 220, 226, 227, 231, 237, 241, 243, 244, 247, 248, 250, 252, 253, 256, 258, 263, 269, 271, 277, 278, 279, 282, 283, 284, 285, 286, 287, 288, 289, 290, 291, 295, 296, 298, 301, 303, 307, 308, 309, 311, 312, 314, 315, 317, 319, 320, 321, 326, 327, 331, 332, 335, 337, 338, 340, 343, 345, 346, 347, 353, 355, 356, 361, 364, 365, 367, 369, 373, 380, 381, 382, 383, 385, 387, 388, 394, 397, 398]\n",
      "Error count: 174\n"
     ]
    }
   ],
   "source": [
    "pred = cross_val_predict(mytree1, X, y, cv=10)\n",
    "wrong = []\n",
    "for i, (p, t) in enumerate(zip(pred, y)):\n",
    "    if p != t:\n",
    "        wrong.append(i)\n",
    "print(wrong)\n",
    "print(\"Error count: {}\".format(len(wrong)))"
   ]
  },
  {
   "cell_type": "code",
   "execution_count": 74,
   "metadata": {},
   "outputs": [
    {
     "name": "stdout",
     "output_type": "stream",
     "text": [
      "Test mean accuracy: 0.53\n",
      "Test mean accuracy: 0.56\n"
     ]
    }
   ],
   "source": [
    "ytree1 = tree.DecisionTreeClassifier(min_samples_leaf=2)\n",
    "mytree1.fit(data_train, target_train)\n",
    "print(\"Test mean accuracy: %0.2f\" % mytree1.score(data_test, target_test))\n",
    "\n",
    "mytree2 = tree.DecisionTreeClassifier(max_leaf_nodes=50)\n",
    "mytree2.fit(data_train, target_train)\n",
    "print(\"Test mean accuracy: %0.2f\" % mytree2.score(data_test, target_test))"
   ]
  },
  {
   "cell_type": "code",
   "execution_count": 75,
   "metadata": {
    "scrolled": true
   },
   "outputs": [
    {
     "data": {
      "image/png": "[encoded data removed]",
      "text/plain": [
       "<Figure size 432x288 with 1 Axes>"
      ]
     },
     "metadata": {
      "needs_background": "light"
     },
     "output_type": "display_data"
    }
   ],
   "source": [
    "data_train, data_test, target_train, target_test = train_test_split(X, y, test_size=0.2, stratify=y, random_state=1)\n",
    "\n",
    "rng = range(2,100,2)\n",
    "error_train = []\n",
    "error_test = []\n",
    "for i in rng:\n",
    "    mytree = tree.DecisionTreeClassifier(criterion='entropy', max_leaf_nodes=i)\n",
    "    mytree.fit(data_train, target_train)\n",
    "    error_train.append(1 - mytree.score(data_train, target_train))\n",
    "    error_test.append(1 - mytree.score(data_test, target_test))\n",
    "\n",
    "plt.plot(rng, error_test, label=\"test\")\n",
    "plt.plot(rng, error_train, label=\"train\")\n",
    "plt.legend(shadow=True)\n",
    "plt.show()"
   ]
  },
  {
   "cell_type": "markdown",
   "metadata": {},
   "source": [
    "Random forest klasyfikator"
   ]
  },
  {
   "cell_type": "code",
   "execution_count": 80,
   "metadata": {},
   "outputs": [
    {
     "name": "stderr",
     "output_type": "stream",
     "text": [
      "C:\\Users\\Agusia\\Anaconda3\\lib\\site-packages\\sklearn\\ensemble\\forest.py:246: FutureWarning: The default value of n_estimators will change from 10 in version 0.20 to 100 in 0.22.\n",
      "  \"10 in version 0.20 to 100 in 0.22.\", FutureWarning)\n"
     ]
    },
    {
     "data": {
      "text/plain": [
       "0.6533788625167936"
      ]
     },
     "execution_count": 80,
     "metadata": {},
     "output_type": "execute_result"
    }
   ],
   "source": [
    "X = df.drop(['Sales','Sales_class'], axis=1).values.astype('float')\n",
    "y = df['Sales_class'].values.astype('float') \n",
    "\n",
    "\n",
    "X_train, X_test, y_train, y_test = train_test_split(X, y, test_size=0.3, random_state=1)\n",
    "\n",
    "\n",
    "rf_classifier = RandomForestClassifier()\n",
    "rf_classifier.fit(X_train, y_train) \n",
    "cross_val_score(rf_classifier, X_train, y_train, cv=5).mean() # ze srednia"
   ]
  },
  {
   "cell_type": "code",
   "execution_count": 81,
   "metadata": {},
   "outputs": [
    {
     "data": {
      "text/plain": [
       "[DecisionTreeClassifier(class_weight=None, criterion='gini', max_depth=None,\n",
       "             max_features='auto', max_leaf_nodes=None,\n",
       "             min_impurity_decrease=0.0, min_impurity_split=None,\n",
       "             min_samples_leaf=1, min_samples_split=2,\n",
       "             min_weight_fraction_leaf=0.0, presort=False,\n",
       "             random_state=789037383, splitter='best'),\n",
       " DecisionTreeClassifier(class_weight=None, criterion='gini', max_depth=None,\n",
       "             max_features='auto', max_leaf_nodes=None,\n",
       "             min_impurity_decrease=0.0, min_impurity_split=None,\n",
       "             min_samples_leaf=1, min_samples_split=2,\n",
       "             min_weight_fraction_leaf=0.0, presort=False,\n",
       "             random_state=1220045345, splitter='best'),\n",
       " DecisionTreeClassifier(class_weight=None, criterion='gini', max_depth=None,\n",
       "             max_features='auto', max_leaf_nodes=None,\n",
       "             min_impurity_decrease=0.0, min_impurity_split=None,\n",
       "             min_samples_leaf=1, min_samples_split=2,\n",
       "             min_weight_fraction_leaf=0.0, presort=False,\n",
       "             random_state=2049039628, splitter='best'),\n",
       " DecisionTreeClassifier(class_weight=None, criterion='gini', max_depth=None,\n",
       "             max_features='auto', max_leaf_nodes=None,\n",
       "             min_impurity_decrease=0.0, min_impurity_split=None,\n",
       "             min_samples_leaf=1, min_samples_split=2,\n",
       "             min_weight_fraction_leaf=0.0, presort=False,\n",
       "             random_state=788671462, splitter='best'),\n",
       " DecisionTreeClassifier(class_weight=None, criterion='gini', max_depth=None,\n",
       "             max_features='auto', max_leaf_nodes=None,\n",
       "             min_impurity_decrease=0.0, min_impurity_split=None,\n",
       "             min_samples_leaf=1, min_samples_split=2,\n",
       "             min_weight_fraction_leaf=0.0, presort=False,\n",
       "             random_state=1985129621, splitter='best'),\n",
       " DecisionTreeClassifier(class_weight=None, criterion='gini', max_depth=None,\n",
       "             max_features='auto', max_leaf_nodes=None,\n",
       "             min_impurity_decrease=0.0, min_impurity_split=None,\n",
       "             min_samples_leaf=1, min_samples_split=2,\n",
       "             min_weight_fraction_leaf=0.0, presort=False,\n",
       "             random_state=1636161522, splitter='best'),\n",
       " DecisionTreeClassifier(class_weight=None, criterion='gini', max_depth=None,\n",
       "             max_features='auto', max_leaf_nodes=None,\n",
       "             min_impurity_decrease=0.0, min_impurity_split=None,\n",
       "             min_samples_leaf=1, min_samples_split=2,\n",
       "             min_weight_fraction_leaf=0.0, presort=False,\n",
       "             random_state=5756725, splitter='best'),\n",
       " DecisionTreeClassifier(class_weight=None, criterion='gini', max_depth=None,\n",
       "             max_features='auto', max_leaf_nodes=None,\n",
       "             min_impurity_decrease=0.0, min_impurity_split=None,\n",
       "             min_samples_leaf=1, min_samples_split=2,\n",
       "             min_weight_fraction_leaf=0.0, presort=False,\n",
       "             random_state=1860857122, splitter='best'),\n",
       " DecisionTreeClassifier(class_weight=None, criterion='gini', max_depth=None,\n",
       "             max_features='auto', max_leaf_nodes=None,\n",
       "             min_impurity_decrease=0.0, min_impurity_split=None,\n",
       "             min_samples_leaf=1, min_samples_split=2,\n",
       "             min_weight_fraction_leaf=0.0, presort=False,\n",
       "             random_state=1650630198, splitter='best'),\n",
       " DecisionTreeClassifier(class_weight=None, criterion='gini', max_depth=None,\n",
       "             max_features='auto', max_leaf_nodes=None,\n",
       "             min_impurity_decrease=0.0, min_impurity_split=None,\n",
       "             min_samples_leaf=1, min_samples_split=2,\n",
       "             min_weight_fraction_leaf=0.0, presort=False,\n",
       "             random_state=1403931081, splitter='best')]"
      ]
     },
     "execution_count": 81,
     "metadata": {},
     "output_type": "execute_result"
    }
   ],
   "source": [
    "rf_classifier.estimators_"
   ]
  },
  {
   "cell_type": "markdown",
   "metadata": {},
   "source": [
    "score"
   ]
  },
  {
   "cell_type": "code",
   "execution_count": 82,
   "metadata": {
    "scrolled": false
   },
   "outputs": [
    {
     "data": {
      "text/plain": [
       "0.5583333333333333"
      ]
     },
     "execution_count": 82,
     "metadata": {},
     "output_type": "execute_result"
    }
   ],
   "source": [
    "#score wyrzuca informacje na ile sie udalo dobrze przypisac\n",
    "rf_classifier.score(X_test, y_test)"
   ]
  },
  {
   "cell_type": "markdown",
   "metadata": {},
   "source": [
    "Ile drzew od 1 do 100 będzie najlepiej"
   ]
  },
  {
   "cell_type": "code",
   "execution_count": 87,
   "metadata": {},
   "outputs": [],
   "source": [
    "results = []\n",
    "estimators = range(1,101)\n",
    "\n",
    "for e in estimators:\n",
    "    temp_rf_classifier = RandomForestClassifier(n_estimators = e)\n",
    "    score = cross_val_score(temp_rf_classifier, X_train, y_train, cv=10).mean()\n",
    "    results.append(score)\n",
    "    "
   ]
  },
  {
   "cell_type": "code",
   "execution_count": 88,
   "metadata": {
    "scrolled": true
   },
   "outputs": [
    {
     "data": {
      "text/plain": [
       "[<matplotlib.lines.Line2D at 0xc0c1f28>]"
      ]
     },
     "execution_count": 88,
     "metadata": {},
     "output_type": "execute_result"
    },
    {
     "data": {
      "image/png": "[encoded data removed]",
      "text/plain": [
       "<Figure size 432x288 with 1 Axes>"
      ]
     },
     "metadata": {
      "needs_background": "light"
     },
     "output_type": "display_data"
    }
   ],
   "source": [
    "plt.plot(estimators, results)"
   ]
  }
 ],
 "metadata": {
  "kernelspec": {
   "display_name": "Python 3",
   "language": "python",
   "name": "python3"
  },
  "language_info": {
   "codemirror_mode": {
    "name": "ipython",
    "version": 3
   },
   "file_extension": ".py",
   "mimetype": "text/x-python",
   "name": "python",
   "nbconvert_exporter": "python",
   "pygments_lexer": "ipython3",
   "version": "3.7.3"
  }
 },
 "nbformat": 4,
 "nbformat_minor": 2
}
