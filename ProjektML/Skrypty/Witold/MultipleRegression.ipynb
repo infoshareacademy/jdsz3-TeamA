{
 "cells": [
  {
   "cell_type": "code",
   "execution_count": 1,
   "metadata": {},
   "outputs": [
    {
     "name": "stderr",
     "output_type": "stream",
     "text": [
      "/usr/bin/anaconda3/lib/python3.7/importlib/_bootstrap.py:219: RuntimeWarning: numpy.ufunc size changed, may indicate binary incompatibility. Expected 216, got 192\n",
      "  return f(*args, **kwds)\n",
      "/usr/bin/anaconda3/lib/python3.7/importlib/_bootstrap.py:219: RuntimeWarning: numpy.ufunc size changed, may indicate binary incompatibility. Expected 216, got 192\n",
      "  return f(*args, **kwds)\n",
      "/usr/bin/anaconda3/lib/python3.7/importlib/_bootstrap.py:219: RuntimeWarning: numpy.ufunc size changed, may indicate binary incompatibility. Expected 192 from C header, got 216 from PyObject\n",
      "  return f(*args, **kwds)\n"
     ]
    }
   ],
   "source": [
    "import os\n",
    "import pandas as pd\n",
    "import numpy as np\n",
    "from statsmodels.formula.api import ols\n",
    "from sklearn.model_selection import train_test_split\n",
    "from sklearn.metrics import r2_score, mean_squared_error"
   ]
  },
  {
   "cell_type": "code",
   "execution_count": 2,
   "metadata": {},
   "outputs": [],
   "source": [
    "filepath = r'https://raw.githubusercontent.com/infoshareacademy/jdsz3-zczasem/ProjektML/ProjektML/Dane/Carseats_Clean.csv'"
   ]
  },
  {
   "cell_type": "code",
   "execution_count": 3,
   "metadata": {},
   "outputs": [
    {
     "data": {
      "text/html": [
       "<div>\n",
       "<style scoped>\n",
       "    .dataframe tbody tr th:only-of-type {\n",
       "        vertical-align: middle;\n",
       "    }\n",
       "\n",
       "    .dataframe tbody tr th {\n",
       "        vertical-align: top;\n",
       "    }\n",
       "\n",
       "    .dataframe thead th {\n",
       "        text-align: right;\n",
       "    }\n",
       "</style>\n",
       "<table border=\"1\" class=\"dataframe\">\n",
       "  <thead>\n",
       "    <tr style=\"text-align: right;\">\n",
       "      <th></th>\n",
       "      <th>Sales</th>\n",
       "      <th>CompPrice</th>\n",
       "      <th>Income</th>\n",
       "      <th>Advertising</th>\n",
       "      <th>Population</th>\n",
       "      <th>Price</th>\n",
       "      <th>Age</th>\n",
       "      <th>Education</th>\n",
       "      <th>Urban</th>\n",
       "      <th>US</th>\n",
       "      <th>ShelveLoc_Bad</th>\n",
       "      <th>ShelveLoc_Good</th>\n",
       "      <th>ShelveLoc_Medium</th>\n",
       "    </tr>\n",
       "  </thead>\n",
       "  <tbody>\n",
       "    <tr>\n",
       "      <th>0</th>\n",
       "      <td>9.50</td>\n",
       "      <td>138</td>\n",
       "      <td>73</td>\n",
       "      <td>11</td>\n",
       "      <td>276</td>\n",
       "      <td>120</td>\n",
       "      <td>42</td>\n",
       "      <td>17</td>\n",
       "      <td>1</td>\n",
       "      <td>1</td>\n",
       "      <td>1</td>\n",
       "      <td>0</td>\n",
       "      <td>0</td>\n",
       "    </tr>\n",
       "    <tr>\n",
       "      <th>1</th>\n",
       "      <td>11.22</td>\n",
       "      <td>111</td>\n",
       "      <td>48</td>\n",
       "      <td>16</td>\n",
       "      <td>260</td>\n",
       "      <td>83</td>\n",
       "      <td>65</td>\n",
       "      <td>10</td>\n",
       "      <td>1</td>\n",
       "      <td>1</td>\n",
       "      <td>0</td>\n",
       "      <td>1</td>\n",
       "      <td>0</td>\n",
       "    </tr>\n",
       "    <tr>\n",
       "      <th>2</th>\n",
       "      <td>10.06</td>\n",
       "      <td>113</td>\n",
       "      <td>35</td>\n",
       "      <td>10</td>\n",
       "      <td>269</td>\n",
       "      <td>80</td>\n",
       "      <td>59</td>\n",
       "      <td>12</td>\n",
       "      <td>1</td>\n",
       "      <td>1</td>\n",
       "      <td>0</td>\n",
       "      <td>0</td>\n",
       "      <td>1</td>\n",
       "    </tr>\n",
       "    <tr>\n",
       "      <th>3</th>\n",
       "      <td>7.40</td>\n",
       "      <td>117</td>\n",
       "      <td>100</td>\n",
       "      <td>4</td>\n",
       "      <td>466</td>\n",
       "      <td>97</td>\n",
       "      <td>55</td>\n",
       "      <td>14</td>\n",
       "      <td>1</td>\n",
       "      <td>1</td>\n",
       "      <td>0</td>\n",
       "      <td>0</td>\n",
       "      <td>1</td>\n",
       "    </tr>\n",
       "    <tr>\n",
       "      <th>4</th>\n",
       "      <td>4.15</td>\n",
       "      <td>141</td>\n",
       "      <td>64</td>\n",
       "      <td>3</td>\n",
       "      <td>340</td>\n",
       "      <td>128</td>\n",
       "      <td>38</td>\n",
       "      <td>13</td>\n",
       "      <td>1</td>\n",
       "      <td>0</td>\n",
       "      <td>1</td>\n",
       "      <td>0</td>\n",
       "      <td>0</td>\n",
       "    </tr>\n",
       "  </tbody>\n",
       "</table>\n",
       "</div>"
      ],
      "text/plain": [
       "   Sales  CompPrice  Income  Advertising  Population  Price  Age  Education  \\\n",
       "0   9.50        138      73           11         276    120   42         17   \n",
       "1  11.22        111      48           16         260     83   65         10   \n",
       "2  10.06        113      35           10         269     80   59         12   \n",
       "3   7.40        117     100            4         466     97   55         14   \n",
       "4   4.15        141      64            3         340    128   38         13   \n",
       "\n",
       "   Urban  US  ShelveLoc_Bad  ShelveLoc_Good  ShelveLoc_Medium  \n",
       "0      1   1              1               0                 0  \n",
       "1      1   1              0               1                 0  \n",
       "2      1   1              0               0                 1  \n",
       "3      1   1              0               0                 1  \n",
       "4      1   0              1               0                 0  "
      ]
     },
     "execution_count": 3,
     "metadata": {},
     "output_type": "execute_result"
    }
   ],
   "source": [
    "df = pd.read_csv(filepath)\n",
    "df.head()"
   ]
  },
  {
   "cell_type": "code",
   "execution_count": 4,
   "metadata": {},
   "outputs": [
    {
     "name": "stdout",
     "output_type": "stream",
     "text": [
      "CompPrice + Income + Advertising + Population + Price + Age + Education + Urban + US + ShelveLoc_Bad + ShelveLoc_Good + ShelveLoc_Medium\n"
     ]
    }
   ],
   "source": [
    "X_col = [i for i in df.columns if i != 'Sales']\n",
    "X_col_formula = ' + '.join(X_col)\n",
    "print(X_col_formula)"
   ]
  },
  {
   "cell_type": "code",
   "execution_count": 5,
   "metadata": {},
   "outputs": [
    {
     "name": "stdout",
     "output_type": "stream",
     "text": [
      "                            OLS Regression Results                            \n",
      "==============================================================================\n",
      "Dep. Variable:                  Sales   R-squared:                       0.873\n",
      "Model:                            OLS   Adj. R-squared:                  0.870\n",
      "Method:                 Least Squares   F-statistic:                     243.4\n",
      "Date:                Thu, 18 Jul 2019   Prob (F-statistic):          1.60e-166\n",
      "Time:                        21:40:20   Log-Likelihood:                -568.99\n",
      "No. Observations:                 400   AIC:                             1162.\n",
      "Df Residuals:                     388   BIC:                             1210.\n",
      "Df Model:                          11                                         \n",
      "Covariance Type:            nonrobust                                         \n",
      "====================================================================================\n",
      "                       coef    std err          t      P>|t|      [0.025      0.975]\n",
      "------------------------------------------------------------------------------------\n",
      "Intercept            5.9472      0.447     13.296      0.000       5.068       6.827\n",
      "CompPrice            0.0928      0.004     22.378      0.000       0.085       0.101\n",
      "Income               0.0158      0.002      8.565      0.000       0.012       0.019\n",
      "Advertising          0.1231      0.011     11.066      0.000       0.101       0.145\n",
      "Population           0.0002      0.000      0.561      0.575      -0.001       0.001\n",
      "Price               -0.0954      0.003    -35.700      0.000      -0.101      -0.090\n",
      "Age                 -0.0460      0.003    -14.472      0.000      -0.052      -0.040\n",
      "Education           -0.0211      0.020     -1.070      0.285      -0.060       0.018\n",
      "Urban                0.1229      0.113      1.088      0.277      -0.099       0.345\n",
      "US                  -0.1841      0.150     -1.229      0.220      -0.479       0.111\n",
      "ShelveLoc_Bad       -0.2866      0.172     -1.669      0.096      -0.624       0.051\n",
      "ShelveLoc_Good       4.5636      0.173     26.374      0.000       4.223       4.904\n",
      "ShelveLoc_Medium     1.6701      0.162     10.340      0.000       1.353       1.988\n",
      "==============================================================================\n",
      "Omnibus:                        0.811   Durbin-Watson:                   2.013\n",
      "Prob(Omnibus):                  0.667   Jarque-Bera (JB):                0.765\n",
      "Skew:                           0.107   Prob(JB):                        0.682\n",
      "Kurtosis:                       2.994   Cond. No.                     2.03e+18\n",
      "==============================================================================\n",
      "\n",
      "Warnings:\n",
      "[1] Standard Errors assume that the covariance matrix of the errors is correctly specified.\n",
      "[2] The smallest eigenvalue is 1.18e-29. This might indicate that there are\n",
      "strong multicollinearity problems or that the design matrix is singular.\n"
     ]
    }
   ],
   "source": [
    "mlReg = ols('Sales ~ ' + ' + '.join(X_col), df).fit()\n",
    "print(mlReg.summary())"
   ]
  },
  {
   "cell_type": "code",
   "execution_count": 6,
   "metadata": {},
   "outputs": [
    {
     "name": "stdout",
     "output_type": "stream",
     "text": [
      "                            OLS Regression Results                            \n",
      "==============================================================================\n",
      "Dep. Variable:                  Sales   R-squared:                       0.873\n",
      "Model:                            OLS   Adj. R-squared:                  0.870\n",
      "Method:                 Least Squares   F-statistic:                     268.2\n",
      "Date:                Thu, 18 Jul 2019   Prob (F-statistic):          1.11e-167\n",
      "Time:                        21:40:20   Log-Likelihood:                -569.15\n",
      "No. Observations:                 400   AIC:                             1160.\n",
      "Df Residuals:                     389   BIC:                             1204.\n",
      "Df Model:                          10                                         \n",
      "Covariance Type:            nonrobust                                         \n",
      "====================================================================================\n",
      "                       coef    std err          t      P>|t|      [0.025      0.975]\n",
      "------------------------------------------------------------------------------------\n",
      "Intercept            6.0211      0.427     14.099      0.000       5.182       6.861\n",
      "CompPrice            0.0926      0.004     22.436      0.000       0.084       0.101\n",
      "Income               0.0158      0.002      8.560      0.000       0.012       0.019\n",
      "Advertising          0.1250      0.011     11.844      0.000       0.104       0.146\n",
      "Price               -0.0953      0.003    -35.736      0.000      -0.101      -0.090\n",
      "Age                 -0.0461      0.003    -14.520      0.000      -0.052      -0.040\n",
      "Education           -0.0224      0.020     -1.145      0.253      -0.061       0.016\n",
      "Urban                0.1189      0.113      1.055      0.292      -0.103       0.340\n",
      "US                  -0.1991      0.147     -1.351      0.177      -0.489       0.091\n",
      "ShelveLoc_Bad       -0.2592      0.165     -1.576      0.116      -0.583       0.064\n",
      "ShelveLoc_Good       4.5875      0.168     27.376      0.000       4.258       4.917\n",
      "ShelveLoc_Medium     1.6929      0.156     10.837      0.000       1.386       2.000\n",
      "==============================================================================\n",
      "Omnibus:                        0.899   Durbin-Watson:                   2.016\n",
      "Prob(Omnibus):                  0.638   Jarque-Bera (JB):                0.826\n",
      "Skew:                           0.111   Prob(JB):                        0.662\n",
      "Kurtosis:                       3.012   Cond. No.                     9.14e+17\n",
      "==============================================================================\n",
      "\n",
      "Warnings:\n",
      "[1] Standard Errors assume that the covariance matrix of the errors is correctly specified.\n",
      "[2] The smallest eigenvalue is 1.79e-29. This might indicate that there are\n",
      "strong multicollinearity problems or that the design matrix is singular.\n"
     ]
    }
   ],
   "source": [
    "#Usuwam zmienna populacja\n",
    "X_col.remove('Population')\n",
    "mlReg = ols('Sales ~ ' + ' + '.join(X_col), df).fit()\n",
    "print(mlReg.summary())"
   ]
  },
  {
   "cell_type": "code",
   "execution_count": 7,
   "metadata": {},
   "outputs": [
    {
     "name": "stdout",
     "output_type": "stream",
     "text": [
      "                            OLS Regression Results                            \n",
      "==============================================================================\n",
      "Dep. Variable:                  Sales   R-squared:                       0.873\n",
      "Model:                            OLS   Adj. R-squared:                  0.870\n",
      "Method:                 Least Squares   F-statistic:                     297.7\n",
      "Date:                Thu, 18 Jul 2019   Prob (F-statistic):          1.09e-168\n",
      "Time:                        21:40:20   Log-Likelihood:                -569.72\n",
      "No. Observations:                 400   AIC:                             1159.\n",
      "Df Residuals:                     390   BIC:                             1199.\n",
      "Df Model:                           9                                         \n",
      "Covariance Type:            nonrobust                                         \n",
      "====================================================================================\n",
      "                       coef    std err          t      P>|t|      [0.025      0.975]\n",
      "------------------------------------------------------------------------------------\n",
      "Intercept            6.0545      0.426     14.214      0.000       5.217       6.892\n",
      "CompPrice            0.0929      0.004     22.529      0.000       0.085       0.101\n",
      "Income               0.0158      0.002      8.598      0.000       0.012       0.019\n",
      "Advertising          0.1253      0.011     11.868      0.000       0.105       0.146\n",
      "Price               -0.0953      0.003    -35.721      0.000      -0.101      -0.090\n",
      "Age                 -0.0460      0.003    -14.488      0.000      -0.052      -0.040\n",
      "Education           -0.0231      0.020     -1.180      0.239      -0.062       0.015\n",
      "US                  -0.1968      0.147     -1.336      0.182      -0.486       0.093\n",
      "ShelveLoc_Bad       -0.2405      0.164     -1.470      0.142      -0.562       0.081\n",
      "ShelveLoc_Good       4.5934      0.168     27.422      0.000       4.264       4.923\n",
      "ShelveLoc_Medium     1.7016      0.156     10.907      0.000       1.395       2.008\n",
      "==============================================================================\n",
      "Omnibus:                        0.872   Durbin-Watson:                   2.009\n",
      "Prob(Omnibus):                  0.647   Jarque-Bera (JB):                0.832\n",
      "Skew:                           0.112   Prob(JB):                        0.660\n",
      "Kurtosis:                       2.989   Cond. No.                     5.76e+17\n",
      "==============================================================================\n",
      "\n",
      "Warnings:\n",
      "[1] Standard Errors assume that the covariance matrix of the errors is correctly specified.\n",
      "[2] The smallest eigenvalue is 4.5e-29. This might indicate that there are\n",
      "strong multicollinearity problems or that the design matrix is singular.\n"
     ]
    }
   ],
   "source": [
    "#Usuwam zmienna Urban\n",
    "X_col.remove('Urban')\n",
    "mlReg = ols('Sales ~ ' + ' + '.join(X_col), df).fit()\n",
    "print(mlReg.summary())"
   ]
  },
  {
   "cell_type": "code",
   "execution_count": 8,
   "metadata": {},
   "outputs": [
    {
     "name": "stdout",
     "output_type": "stream",
     "text": [
      "                            OLS Regression Results                            \n",
      "==============================================================================\n",
      "Dep. Variable:                  Sales   R-squared:                       0.872\n",
      "Model:                            OLS   Adj. R-squared:                  0.870\n",
      "Method:                 Least Squares   F-statistic:                     334.4\n",
      "Date:                Thu, 18 Jul 2019   Prob (F-statistic):          1.16e-169\n",
      "Time:                        21:40:20   Log-Likelihood:                -570.43\n",
      "No. Observations:                 400   AIC:                             1159.\n",
      "Df Residuals:                     391   BIC:                             1195.\n",
      "Df Model:                           8                                         \n",
      "Covariance Type:            nonrobust                                         \n",
      "====================================================================================\n",
      "                       coef    std err          t      P>|t|      [0.025      0.975]\n",
      "------------------------------------------------------------------------------------\n",
      "Intercept            5.8153      0.375     15.515      0.000       5.078       6.552\n",
      "CompPrice            0.0928      0.004     22.498      0.000       0.085       0.101\n",
      "Income               0.0159      0.002      8.662      0.000       0.012       0.020\n",
      "Advertising          0.1249      0.011     11.833      0.000       0.104       0.146\n",
      "Price               -0.0953      0.003    -35.703      0.000      -0.101      -0.090\n",
      "Age                 -0.0460      0.003    -14.493      0.000      -0.052      -0.040\n",
      "US                  -0.1842      0.147     -1.253      0.211      -0.473       0.105\n",
      "ShelveLoc_Bad       -0.3225      0.148     -2.177      0.030      -0.614      -0.031\n",
      "ShelveLoc_Good       4.5163      0.154     29.264      0.000       4.213       4.820\n",
      "ShelveLoc_Medium     1.6215      0.141     11.538      0.000       1.345       1.898\n",
      "==============================================================================\n",
      "Omnibus:                        0.635   Durbin-Watson:                   1.998\n",
      "Prob(Omnibus):                  0.728   Jarque-Bera (JB):                0.692\n",
      "Skew:                           0.094   Prob(JB):                        0.707\n",
      "Kurtosis:                       2.921   Cond. No.                     4.94e+17\n",
      "==============================================================================\n",
      "\n",
      "Warnings:\n",
      "[1] Standard Errors assume that the covariance matrix of the errors is correctly specified.\n",
      "[2] The smallest eigenvalue is 6.1e-29. This might indicate that there are\n",
      "strong multicollinearity problems or that the design matrix is singular.\n"
     ]
    }
   ],
   "source": [
    "#Usuwam zmienna Education\n",
    "X_col.remove('Education')\n",
    "mlReg = ols('Sales ~ ' + ' + '.join(X_col), df).fit()\n",
    "print(mlReg.summary())"
   ]
  },
  {
   "cell_type": "markdown",
   "metadata": {},
   "source": [
    "### Ostateczny model regresji (bez podziału na dane treningowe i testowe)"
   ]
  },
  {
   "cell_type": "code",
   "execution_count": 9,
   "metadata": {},
   "outputs": [
    {
     "name": "stdout",
     "output_type": "stream",
     "text": [
      "                            OLS Regression Results                            \n",
      "==============================================================================\n",
      "Dep. Variable:                  Sales   R-squared:                       0.872\n",
      "Model:                            OLS   Adj. R-squared:                  0.870\n",
      "Method:                 Least Squares   F-statistic:                     381.4\n",
      "Date:                Thu, 18 Jul 2019   Prob (F-statistic):          1.25e-170\n",
      "Time:                        21:40:20   Log-Likelihood:                -571.24\n",
      "No. Observations:                 400   AIC:                             1158.\n",
      "Df Residuals:                     392   BIC:                             1190.\n",
      "Df Model:                           7                                         \n",
      "Covariance Type:            nonrobust                                         \n",
      "====================================================================================\n",
      "                       coef    std err          t      P>|t|      [0.025      0.975]\n",
      "------------------------------------------------------------------------------------\n",
      "Intercept            5.8033      0.375     15.477      0.000       5.066       6.541\n",
      "CompPrice            0.0926      0.004     22.451      0.000       0.084       0.101\n",
      "Income               0.0158      0.002      8.590      0.000       0.012       0.019\n",
      "Advertising          0.1159      0.008     15.006      0.000       0.101       0.131\n",
      "Price               -0.0953      0.003    -35.699      0.000      -0.101      -0.090\n",
      "Age                 -0.0461      0.003    -14.521      0.000      -0.052      -0.040\n",
      "ShelveLoc_Bad       -0.3281      0.148     -2.214      0.027      -0.619      -0.037\n",
      "ShelveLoc_Good       4.5076      0.154     29.216      0.000       4.204       4.811\n",
      "ShelveLoc_Medium     1.6239      0.141     11.548      0.000       1.347       1.900\n",
      "==============================================================================\n",
      "Omnibus:                        0.766   Durbin-Watson:                   1.988\n",
      "Prob(Omnibus):                  0.682   Jarque-Bera (JB):                0.810\n",
      "Skew:                           0.104   Prob(JB):                        0.667\n",
      "Kurtosis:                       2.929   Cond. No.                     4.73e+17\n",
      "==============================================================================\n",
      "\n",
      "Warnings:\n",
      "[1] Standard Errors assume that the covariance matrix of the errors is correctly specified.\n",
      "[2] The smallest eigenvalue is 6.65e-29. This might indicate that there are\n",
      "strong multicollinearity problems or that the design matrix is singular.\n"
     ]
    }
   ],
   "source": [
    "#Usuwam zmienna US\n",
    "X_col.remove('US')\n",
    "mlReg = ols('Sales ~ ' + ' + '.join(X_col), df).fit()\n",
    "print(mlReg.summary())"
   ]
  },
  {
   "cell_type": "markdown",
   "metadata": {},
   "source": [
    "### Model regresji nadanych treningowych i testowych"
   ]
  },
  {
   "cell_type": "code",
   "execution_count": 10,
   "metadata": {},
   "outputs": [],
   "source": [
    "df_train, df_test = train_test_split(df, test_size = 0.3, random_state=1)"
   ]
  },
  {
   "cell_type": "code",
   "execution_count": 11,
   "metadata": {},
   "outputs": [
    {
     "name": "stdout",
     "output_type": "stream",
     "text": [
      "                            OLS Regression Results                            \n",
      "==============================================================================\n",
      "Dep. Variable:                  Sales   R-squared:                       0.871\n",
      "Model:                            OLS   Adj. R-squared:                  0.867\n",
      "Method:                 Least Squares   F-statistic:                     261.6\n",
      "Date:                Thu, 18 Jul 2019   Prob (F-statistic):          7.50e-117\n",
      "Time:                        21:40:20   Log-Likelihood:                -402.08\n",
      "No. Observations:                 280   AIC:                             820.2\n",
      "Df Residuals:                     272   BIC:                             849.2\n",
      "Df Model:                           7                                         \n",
      "Covariance Type:            nonrobust                                         \n",
      "====================================================================================\n",
      "                       coef    std err          t      P>|t|      [0.025      0.975]\n",
      "------------------------------------------------------------------------------------\n",
      "Intercept            6.0265      0.470     12.820      0.000       5.101       6.952\n",
      "CompPrice            0.0949      0.005     18.826      0.000       0.085       0.105\n",
      "Income               0.0140      0.002      6.180      0.000       0.010       0.019\n",
      "Advertising          0.1159      0.010     12.173      0.000       0.097       0.135\n",
      "Price               -0.0972      0.003    -29.353      0.000      -0.104      -0.091\n",
      "Age                 -0.0511      0.004    -13.266      0.000      -0.059      -0.043\n",
      "ShelveLoc_Bad       -0.3127      0.178     -1.753      0.081      -0.664       0.038\n",
      "ShelveLoc_Good       4.5755      0.196     23.302      0.000       4.189       4.962\n",
      "ShelveLoc_Medium     1.7637      0.175     10.103      0.000       1.420       2.107\n",
      "==============================================================================\n",
      "Omnibus:                        0.325   Durbin-Watson:                   2.029\n",
      "Prob(Omnibus):                  0.850   Jarque-Bera (JB):                0.400\n",
      "Skew:                           0.078   Prob(JB):                        0.819\n",
      "Kurtosis:                       2.901   Cond. No.                     2.53e+18\n",
      "==============================================================================\n",
      "\n",
      "Warnings:\n",
      "[1] Standard Errors assume that the covariance matrix of the errors is correctly specified.\n",
      "[2] The smallest eigenvalue is 1.63e-30. This might indicate that there are\n",
      "strong multicollinearity problems or that the design matrix is singular.\n"
     ]
    }
   ],
   "source": [
    "mlReg = ols('Sales ~ ' + ' + '.join(X_col), df_train).fit()\n",
    "print(mlReg.summary())"
   ]
  },
  {
   "cell_type": "code",
   "execution_count": 12,
   "metadata": {},
   "outputs": [
    {
     "data": {
      "text/plain": [
       "0.8696963440869624"
      ]
     },
     "execution_count": 12,
     "metadata": {},
     "output_type": "execute_result"
    }
   ],
   "source": [
    "mlRedPred = mlReg.predict(df_test[X_col])\n",
    "r2_score(df_test['Sales'], mlRedPred)"
   ]
  },
  {
   "cell_type": "markdown",
   "metadata": {},
   "source": [
    "#### Dodawanie sztucznych zmiennych"
   ]
  },
  {
   "cell_type": "code",
   "execution_count": 13,
   "metadata": {},
   "outputs": [],
   "source": [
    "#df['PriceAdv'] = df['Price'] * df['Advertising']\n",
    "df['PriceInc'] = df['Price'] * df['Income']\n",
    "df['ShBadPrice'] = df['Price'] * df['ShelveLoc_Bad']\n",
    "df['ShMedPrice'] = df['Price'] * df['ShelveLoc_Medium']\n",
    "df['ShGoodPrice'] = df['Price'] * df['ShelveLoc_Good']\n",
    "df['ShBadAdv'] = df['Advertising'] * df['ShelveLoc_Bad']\n",
    "df['ShMedAdv'] = df['Advertising'] * df['ShelveLoc_Medium']\n",
    "df['ShGoodAdv'] = df['Advertising'] * df['ShelveLoc_Good']"
   ]
  },
  {
   "cell_type": "code",
   "execution_count": 14,
   "metadata": {},
   "outputs": [],
   "source": [
    "#X_col.append('PriceAdv')\n",
    "X_col.append('PriceInc')\n",
    "X_col.append('ShBadPrice')\n",
    "X_col.append('ShMedPrice')\n",
    "X_col.append('ShGoodPrice')\n",
    "X_col.append('ShBadAdv')\n",
    "X_col.append('ShMedAdv')\n",
    "X_col.append('ShGoodAdv')"
   ]
  },
  {
   "cell_type": "code",
   "execution_count": 15,
   "metadata": {},
   "outputs": [
    {
     "data": {
      "text/plain": [
       "['CompPrice',\n",
       " 'Income',\n",
       " 'Advertising',\n",
       " 'Price',\n",
       " 'Age',\n",
       " 'ShelveLoc_Bad',\n",
       " 'ShelveLoc_Good',\n",
       " 'ShelveLoc_Medium',\n",
       " 'PriceInc',\n",
       " 'ShBadPrice',\n",
       " 'ShMedPrice',\n",
       " 'ShGoodPrice',\n",
       " 'ShBadAdv',\n",
       " 'ShMedAdv',\n",
       " 'ShGoodAdv']"
      ]
     },
     "execution_count": 15,
     "metadata": {},
     "output_type": "execute_result"
    }
   ],
   "source": [
    "X_col"
   ]
  },
  {
   "cell_type": "code",
   "execution_count": 16,
   "metadata": {},
   "outputs": [],
   "source": [
    "X_col.remove('ShelveLoc_Bad')"
   ]
  },
  {
   "cell_type": "code",
   "execution_count": 17,
   "metadata": {},
   "outputs": [
    {
     "name": "stdout",
     "output_type": "stream",
     "text": [
      "                            OLS Regression Results                            \n",
      "==============================================================================\n",
      "Dep. Variable:                  Sales   R-squared:                       0.874\n",
      "Model:                            OLS   Adj. R-squared:                  0.870\n",
      "Method:                 Least Squares   F-statistic:                     224.0\n",
      "Date:                Thu, 18 Jul 2019   Prob (F-statistic):          8.36e-166\n",
      "Time:                        21:40:20   Log-Likelihood:                -567.83\n",
      "No. Observations:                 400   AIC:                             1162.\n",
      "Df Residuals:                     387   BIC:                             1214.\n",
      "Df Model:                          12                                         \n",
      "Covariance Type:            nonrobust                                         \n",
      "====================================================================================\n",
      "                       coef    std err          t      P>|t|      [0.025      0.975]\n",
      "------------------------------------------------------------------------------------\n",
      "Intercept            4.5143      0.946      4.772      0.000       2.655       6.374\n",
      "CompPrice            0.0931      0.004     22.399      0.000       0.085       0.101\n",
      "Income               0.0339      0.009      3.722      0.000       0.016       0.052\n",
      "Advertising          0.0896      0.006     14.102      0.000       0.077       0.102\n",
      "Price               -0.0637      0.004    -14.317      0.000      -0.072      -0.055\n",
      "Age                 -0.0471      0.003    -14.651      0.000      -0.053      -0.041\n",
      "ShelveLoc_Good       4.2574      0.763      5.576      0.000       2.756       5.758\n",
      "ShelveLoc_Medium     1.6464      0.633      2.600      0.010       0.401       2.892\n",
      "PriceInc            -0.0002   7.64e-05     -2.033      0.043      -0.000   -5.08e-06\n",
      "ShBadPrice          -0.0239      0.004     -6.059      0.000      -0.032      -0.016\n",
      "ShMedPrice          -0.0205      0.003     -6.535      0.000      -0.027      -0.014\n",
      "ShGoodPrice         -0.0193      0.004     -5.179      0.000      -0.027      -0.012\n",
      "ShBadAdv             0.0330      0.013      2.508      0.013       0.007       0.059\n",
      "ShMedAdv             0.0177      0.010      1.822      0.069      -0.001       0.037\n",
      "ShGoodAdv            0.0389      0.013      2.954      0.003       0.013       0.065\n",
      "==============================================================================\n",
      "Omnibus:                        1.139   Durbin-Watson:                   1.986\n",
      "Prob(Omnibus):                  0.566   Jarque-Bera (JB):                1.116\n",
      "Skew:                           0.129   Prob(JB):                        0.572\n",
      "Kurtosis:                       2.973   Cond. No.                     1.10e+19\n",
      "==============================================================================\n",
      "\n",
      "Warnings:\n",
      "[1] Standard Errors assume that the covariance matrix of the errors is correctly specified.\n",
      "[2] The smallest eigenvalue is 2.52e-28. This might indicate that there are\n",
      "strong multicollinearity problems or that the design matrix is singular.\n"
     ]
    }
   ],
   "source": [
    "mlReg = ols('Sales ~ ' + ' + '.join(X_col), df).fit()\n",
    "print(mlReg.summary())"
   ]
  },
  {
   "cell_type": "code",
   "execution_count": 18,
   "metadata": {},
   "outputs": [],
   "source": [
    "df['ShelveLoc'] = df['ShelveLoc_Good'].astype('str') + df['ShelveLoc_Medium'].astype('str') + df['ShelveLoc_Bad'].astype('str')"
   ]
  },
  {
   "cell_type": "code",
   "execution_count": 19,
   "metadata": {},
   "outputs": [],
   "source": [
    "df['ShelveLoc'] = df['ShelveLoc'].replace({'100': 3, '010': 2, '001': 1})"
   ]
  },
  {
   "cell_type": "code",
   "execution_count": 20,
   "metadata": {},
   "outputs": [],
   "source": [
    "X_col = ['CompPrice', 'Income', 'Advertising', 'Price', 'Age', 'ShelveLoc']"
   ]
  },
  {
   "cell_type": "code",
   "execution_count": 21,
   "metadata": {},
   "outputs": [
    {
     "name": "stdout",
     "output_type": "stream",
     "text": [
      "                            OLS Regression Results                            \n",
      "==============================================================================\n",
      "Dep. Variable:                  Sales   R-squared:                       0.865\n",
      "Model:                            OLS   Adj. R-squared:                  0.863\n",
      "Method:                 Least Squares   F-statistic:                     420.7\n",
      "Date:                Thu, 18 Jul 2019   Prob (F-statistic):          1.26e-167\n",
      "Time:                        21:40:20   Log-Likelihood:                -581.44\n",
      "No. Observations:                 400   AIC:                             1177.\n",
      "Df Residuals:                     393   BIC:                             1205.\n",
      "Df Model:                           6                                         \n",
      "Covariance Type:            nonrobust                                         \n",
      "===============================================================================\n",
      "                  coef    std err          t      P>|t|      [0.025      0.975]\n",
      "-------------------------------------------------------------------------------\n",
      "Intercept       2.8593      0.530      5.395      0.000       1.817       3.901\n",
      "CompPrice       0.0923      0.004     21.853      0.000       0.084       0.101\n",
      "Income          0.0162      0.002      8.603      0.000       0.012       0.020\n",
      "Advertising     0.1164      0.008     14.711      0.000       0.101       0.132\n",
      "Price          -0.0952      0.003    -34.791      0.000      -0.101      -0.090\n",
      "Age            -0.0469      0.003    -14.441      0.000      -0.053      -0.041\n",
      "ShelveLoc       2.4031      0.078     30.790      0.000       2.250       2.557\n",
      "==============================================================================\n",
      "Omnibus:                        1.110   Durbin-Watson:                   2.019\n",
      "Prob(Omnibus):                  0.574   Jarque-Bera (JB):                1.189\n",
      "Skew:                           0.121   Prob(JB):                        0.552\n",
      "Kurtosis:                       2.888   Cond. No.                     1.96e+03\n",
      "==============================================================================\n",
      "\n",
      "Warnings:\n",
      "[1] Standard Errors assume that the covariance matrix of the errors is correctly specified.\n",
      "[2] The condition number is large, 1.96e+03. This might indicate that there are\n",
      "strong multicollinearity or other numerical problems.\n"
     ]
    }
   ],
   "source": [
    "mlReg = ols('Sales ~ ' + ' + '.join(X_col), df).fit()\n",
    "print(mlReg.summary())"
   ]
  },
  {
   "cell_type": "markdown",
   "metadata": {},
   "source": [
    "Sprawdzenie kwadratow zmiennych"
   ]
  },
  {
   "cell_type": "code",
   "execution_count": 22,
   "metadata": {},
   "outputs": [],
   "source": [
    "df['CompPrice2'] = df['CompPrice'] * df['CompPrice']\n",
    "df['Income2'] = df['Income'] * df['Income']\n",
    "df['Advertising2'] = df['Advertising'] * df['Advertising']\n",
    "df['Price2'] = df['Price'] * df['Price']\n",
    "df['Age2'] = df['Age'] * df['Age']\n",
    "df['ShelveLoc2'] = df['ShelveLoc'] * df['ShelveLoc']"
   ]
  },
  {
   "cell_type": "code",
   "execution_count": 23,
   "metadata": {},
   "outputs": [],
   "source": [
    "X_col.append('CompPrice2')\n",
    "X_col.append('Income2')\n",
    "X_col.append('Advertising2')\n",
    "X_col.append('Price2')\n",
    "X_col.append('Age2')\n",
    "X_col.append('ShelveLoc2')"
   ]
  },
  {
   "cell_type": "code",
   "execution_count": 24,
   "metadata": {},
   "outputs": [],
   "source": [
    "X_col.remove('Income')"
   ]
  },
  {
   "cell_type": "code",
   "execution_count": 25,
   "metadata": {},
   "outputs": [],
   "source": [
    "X_col.remove('Advertising2')"
   ]
  },
  {
   "cell_type": "code",
   "execution_count": 26,
   "metadata": {},
   "outputs": [],
   "source": [
    "X_col.remove('CompPrice2')"
   ]
  },
  {
   "cell_type": "code",
   "execution_count": 27,
   "metadata": {},
   "outputs": [],
   "source": [
    "X_col.remove('Price2')"
   ]
  },
  {
   "cell_type": "code",
   "execution_count": 28,
   "metadata": {},
   "outputs": [],
   "source": [
    "X_col.remove('ShelveLoc')"
   ]
  },
  {
   "cell_type": "code",
   "execution_count": 29,
   "metadata": {},
   "outputs": [],
   "source": [
    "X_col.remove('Age2')"
   ]
  },
  {
   "cell_type": "code",
   "execution_count": 30,
   "metadata": {},
   "outputs": [],
   "source": [
    "df['CompPrice3'] = df['CompPrice2'] * df['CompPrice']\n",
    "df['Income3'] = df['Income2'] * df['Income']\n",
    "df['Advertising3'] = df['Advertising2'] * df['Advertising']\n",
    "df['Price3'] = df['Price2'] * df['Price']\n",
    "df['Age3'] = df['Age2'] * df['Age']\n",
    "df['ShelveLoc3'] = df['ShelveLoc2'] * df['ShelveLoc']"
   ]
  },
  {
   "cell_type": "code",
   "execution_count": 31,
   "metadata": {},
   "outputs": [],
   "source": [
    "X_col.append('CompPrice3')\n",
    "X_col.append('Income3')\n",
    "X_col.append('Advertising3')\n",
    "X_col.append('Price3')\n",
    "X_col.append('Age3')\n",
    "X_col.append('ShelveLoc3')"
   ]
  },
  {
   "cell_type": "code",
   "execution_count": 32,
   "metadata": {},
   "outputs": [],
   "source": [
    "X_col.remove('Advertising3')"
   ]
  },
  {
   "cell_type": "code",
   "execution_count": 33,
   "metadata": {},
   "outputs": [],
   "source": [
    "X_col.remove('Age3')"
   ]
  },
  {
   "cell_type": "code",
   "execution_count": 34,
   "metadata": {},
   "outputs": [],
   "source": [
    "X_col.remove('Income3')"
   ]
  },
  {
   "cell_type": "code",
   "execution_count": 35,
   "metadata": {},
   "outputs": [],
   "source": [
    "X_col.remove('Price3')"
   ]
  },
  {
   "cell_type": "code",
   "execution_count": 36,
   "metadata": {},
   "outputs": [],
   "source": [
    "X_col.remove('CompPrice3')"
   ]
  },
  {
   "cell_type": "code",
   "execution_count": 37,
   "metadata": {},
   "outputs": [],
   "source": [
    "X_col.remove('ShelveLoc3')"
   ]
  },
  {
   "cell_type": "code",
   "execution_count": 38,
   "metadata": {},
   "outputs": [
    {
     "name": "stdout",
     "output_type": "stream",
     "text": [
      "                            OLS Regression Results                            \n",
      "==============================================================================\n",
      "Dep. Variable:                  Sales   R-squared:                       0.872\n",
      "Model:                            OLS   Adj. R-squared:                  0.870\n",
      "Method:                 Least Squares   F-statistic:                     445.8\n",
      "Date:                Thu, 18 Jul 2019   Prob (F-statistic):          6.48e-172\n",
      "Time:                        21:40:27   Log-Likelihood:                -571.37\n",
      "No. Observations:                 400   AIC:                             1157.\n",
      "Df Residuals:                     393   BIC:                             1185.\n",
      "Df Model:                           6                                         \n",
      "Covariance Type:            nonrobust                                         \n",
      "===============================================================================\n",
      "                  coef    std err          t      P>|t|      [0.025      0.975]\n",
      "-------------------------------------------------------------------------------\n",
      "Intercept       5.3475      0.490     10.907      0.000       4.384       6.311\n",
      "CompPrice       0.0936      0.004     22.680      0.000       0.085       0.102\n",
      "Advertising     0.1161      0.008     15.050      0.000       0.101       0.131\n",
      "Price          -0.0958      0.003    -35.923      0.000      -0.101      -0.091\n",
      "Age            -0.0458      0.003    -14.455      0.000      -0.052      -0.040\n",
      "Income2         0.0001    1.3e-05      8.624      0.000    8.65e-05       0.000\n",
      "ShelveLoc2      0.6000      0.019     31.831      0.000       0.563       0.637\n",
      "==============================================================================\n",
      "Omnibus:                        0.605   Durbin-Watson:                   1.988\n",
      "Prob(Omnibus):                  0.739   Jarque-Bera (JB):                0.594\n",
      "Skew:                           0.093   Prob(JB):                        0.743\n",
      "Kurtosis:                       2.974   Cond. No.                     6.52e+04\n",
      "==============================================================================\n",
      "\n",
      "Warnings:\n",
      "[1] Standard Errors assume that the covariance matrix of the errors is correctly specified.\n",
      "[2] The condition number is large, 6.52e+04. This might indicate that there are\n",
      "strong multicollinearity or other numerical problems.\n"
     ]
    }
   ],
   "source": [
    "mlReg = ols('Sales ~ ' + ' + '.join(X_col), df).fit()\n",
    "print(mlReg.summary())"
   ]
  },
  {
   "cell_type": "code",
   "execution_count": 39,
   "metadata": {},
   "outputs": [
    {
     "data": {
      "text/plain": [
       "['CompPrice', 'Advertising', 'Price', 'Age', 'Income2', 'ShelveLoc2']"
      ]
     },
     "execution_count": 39,
     "metadata": {},
     "output_type": "execute_result"
    }
   ],
   "source": [
    "X_col"
   ]
  },
  {
   "cell_type": "code",
   "execution_count": 44,
   "metadata": {},
   "outputs": [],
   "source": [
    "df['ShelveLoc4'] = df['ShelveLoc3'] * df['ShelveLoc']"
   ]
  },
  {
   "cell_type": "code",
   "execution_count": 47,
   "metadata": {},
   "outputs": [
    {
     "name": "stdout",
     "output_type": "stream",
     "text": [
      "                            OLS Regression Results                            \n",
      "==============================================================================\n",
      "Dep. Variable:                  Sales   R-squared:                       0.871\n",
      "Model:                            OLS   Adj. R-squared:                  0.869\n",
      "Method:                 Least Squares   F-statistic:                     443.8\n",
      "Date:                Thu, 18 Jul 2019   Prob (F-statistic):          1.38e-171\n",
      "Time:                        21:43:38   Log-Likelihood:                -572.14\n",
      "No. Observations:                 400   AIC:                             1158.\n",
      "Df Residuals:                     393   BIC:                             1186.\n",
      "Df Model:                           6                                         \n",
      "Covariance Type:            nonrobust                                         \n",
      "===============================================================================\n",
      "                  coef    std err          t      P>|t|      [0.025      0.975]\n",
      "-------------------------------------------------------------------------------\n",
      "Intercept       4.9504      0.504      9.813      0.000       3.959       5.942\n",
      "CompPrice       0.0927      0.004     22.453      0.000       0.085       0.101\n",
      "Advertising     0.1159      0.008     14.987      0.000       0.101       0.131\n",
      "Price          -0.0953      0.003    -35.673      0.000      -0.101      -0.090\n",
      "Age            -0.0459      0.003    -14.453      0.000      -0.052      -0.040\n",
      "Income          0.0156      0.002      8.520      0.000       0.012       0.019\n",
      "ShelveLoc2      0.6009      0.019     31.809      0.000       0.564       0.638\n",
      "==============================================================================\n",
      "Omnibus:                        0.627   Durbin-Watson:                   1.979\n",
      "Prob(Omnibus):                  0.731   Jarque-Bera (JB):                0.665\n",
      "Skew:                           0.095   Prob(JB):                        0.717\n",
      "Kurtosis:                       2.937   Cond. No.                     1.91e+03\n",
      "==============================================================================\n",
      "\n",
      "Warnings:\n",
      "[1] Standard Errors assume that the covariance matrix of the errors is correctly specified.\n",
      "[2] The condition number is large, 1.91e+03. This might indicate that there are\n",
      "strong multicollinearity or other numerical problems.\n"
     ]
    }
   ],
   "source": [
    "mlReg = ols('Sales ~ CompPrice + Advertising + Price + Age + Income + ShelveLoc2', df).fit()\n",
    "print(mlReg.summary())"
   ]
  }
 ],
 "metadata": {
  "kernelspec": {
   "display_name": "Python 3",
   "language": "python",
   "name": "python3"
  },
  "language_info": {
   "codemirror_mode": {
    "name": "ipython",
    "version": 3
   },
   "file_extension": ".py",
   "mimetype": "text/x-python",
   "name": "python",
   "nbconvert_exporter": "python",
   "pygments_lexer": "ipython3",
   "version": "3.7.3"
  }
 },
 "nbformat": 4,
 "nbformat_minor": 2
}
