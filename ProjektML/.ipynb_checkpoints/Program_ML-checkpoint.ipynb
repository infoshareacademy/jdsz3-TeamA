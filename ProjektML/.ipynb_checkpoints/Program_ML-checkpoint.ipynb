{
 "cells": [
  {
   "cell_type": "code",
   "execution_count": 1,
   "metadata": {
    "slideshow": {
     "slide_type": "skip"
    }
   },
   "outputs": [],
   "source": [
    "import ipywidgets as widgets\n",
    "import pandas as pd\n",
    "from ipywidgets import interact, interact_manual\n",
    "from IPython.display import display\n",
    "from ipywidgets import interact, interactive, fixed, interact_manual\n",
    "import ipywidgets as widgets"
   ]
  },
  {
   "cell_type": "markdown",
   "metadata": {
    "slideshow": {
     "slide_type": "skip"
    }
   },
   "source": [
    "!pip install ipywidgets"
   ]
  },
  {
   "cell_type": "code",
   "execution_count": 2,
   "metadata": {
    "slideshow": {
     "slide_type": "skip"
    }
   },
   "outputs": [],
   "source": [
    "values = {\"CompPrice\": 77, \"Advertising\": 0, \"Price\": 24, \"Age\": 25, \"Income\": 21, \"ShelveLoc\" :1}\n",
    "run_button = widgets.Button(description=\"Save\")\n",
    "\n",
    "def f(CompPrice, Advertising, Price, Age, Income, ShelveLoc):\n",
    "    MR_Eq = 5.2114 + 0.0939 * CompPrice + 0.1143 * Advertising - 0.0971 * Price - 0.0472 * Age + 0.0139 * Income + 0.5982 * ShelveLoc** 2\n",
    "    display(MR_Eq)\n",
    "    return MR_Eq\n",
    "\n",
    "def button_callback(button):\n",
    "    quant = round(sales.result / values[\"Price\"] * 1000,0)\n",
    "    df = pd.DataFrame(sales.kwargs, index=[0])\n",
    "    df[\"Sales\"] = sales.result\n",
    "    df[\"Sales quantity\"] = quant\n",
    "    print(df.to_string())\n",
    "    f = open('sales.txt', 'a')\n",
    "    f.write(df.to_string())\n",
    "    f.write(\"\\n\\n\")\n",
    "    \n",
    "\n",
    "run_button.on_click(button_callback)"
   ]
  },
  {
   "cell_type": "code",
   "execution_count": 3,
   "metadata": {
    "slideshow": {
     "slide_type": "skip"
    }
   },
   "outputs": [],
   "source": [
    "sales = interactive(f, CompPrice=(77,175), Advertising=(0,29), Price=(24,191), Age=(25,80), Income=(21,120), ShelveLoc=(1,3,1))"
   ]
  },
  {
   "cell_type": "markdown",
   "metadata": {},
   "source": [
    "# Sales of Child Car Seats\n",
    "\n",
    "    ### - a simulated data set containing sales of child car seats at 400 different stores"
   ]
  },
  {
   "cell_type": "markdown",
   "metadata": {
    "slideshow": {
     "slide_type": "slide"
    }
   },
   "source": [
    "## We will try to predict the sales of carseats. In this data set, a single observation represents a location where carseats are sold. In particular the training data set consists of the following variables:"
   ]
  },
  {
   "cell_type": "markdown",
   "metadata": {
    "slideshow": {
     "slide_type": "slide"
    }
   },
   "source": [
    "- Sales - Unit sales (in thousands) at each location\n",
    "    - CompPrice - Price charged by competitor at each location\n",
    "    - Income - Community income level (in thousands of dollars)\n",
    "    - Advertising - Local advertising budget for company at each location (in thousands of dollars)\n",
    "    - Population - Population size in region (in thousands)\n",
    "    - Price - Price company charges for car seats at each site\n",
    "    - ShelveLoc - A factor with levels Bad, Good and Medium indicating the quality of the shelving location for   \n",
    "      the car seats at each site\n",
    "    - Age - Average age of the local population\n",
    "    - Education - Education level at each location\n",
    "    - Urban - A factor with levels No and Yes to indicate whether the store is in an urban or rural location\n",
    "    - US - A factor with levels No and Yes to indicate whether the store is in the US or not"
   ]
  },
  {
   "cell_type": "markdown",
   "metadata": {
    "slideshow": {
     "slide_type": "slide"
    }
   },
   "source": [
    "## Select variables to set the expected sales"
   ]
  },
  {
   "cell_type": "code",
   "execution_count": 4,
   "metadata": {
    "slideshow": {
     "slide_type": "-"
    }
   },
   "outputs": [
    {
     "data": {
      "application/vnd.jupyter.widget-view+json": {
       "model_id": "35de959c8d7e43018c8aba6fc2190e12",
       "version_major": 2,
       "version_minor": 0
      },
      "text/plain": [
       "interactive(children=(IntSlider(value=126, description='CompPrice', max=175, min=77), IntSlider(value=14, desc…"
      ]
     },
     "metadata": {},
     "output_type": "display_data"
    },
    {
     "data": {
      "application/vnd.jupyter.widget-view+json": {
       "model_id": "96653f03c50849c8b1af20e67238a590",
       "version_major": 2,
       "version_minor": 0
      },
      "text/plain": [
       "Button(description='Save', style=ButtonStyle())"
      ]
     },
     "metadata": {},
     "output_type": "display_data"
    }
   ],
   "source": [
    "display(sales, run_button)"
   ]
  }
 ],
 "metadata": {
  "kernelspec": {
   "display_name": "Python 3",
   "language": "python",
   "name": "python3"
  },
  "language_info": {
   "codemirror_mode": {
    "name": "ipython",
    "version": 3
   },
   "file_extension": ".py",
   "mimetype": "text/x-python",
   "name": "python",
   "nbconvert_exporter": "python",
   "pygments_lexer": "ipython3",
   "version": "3.7.3"
  }
 },
 "nbformat": 4,
 "nbformat_minor": 2
}
