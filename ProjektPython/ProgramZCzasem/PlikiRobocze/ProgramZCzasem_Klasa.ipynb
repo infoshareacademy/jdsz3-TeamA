{
 "cells": [
  {
   "cell_type": "code",
   "execution_count": 2,
   "metadata": {},
   "outputs": [
    {
     "ename": "SyntaxError",
     "evalue": "invalid syntax (<ipython-input-2-e1a8f21b5dfe>, line 11)",
     "output_type": "error",
     "traceback": [
      "\u001b[0;36m  File \u001b[0;32m\"<ipython-input-2-e1a8f21b5dfe>\"\u001b[0;36m, line \u001b[0;32m11\u001b[0m\n\u001b[0;31m    def zwalidujOdpowiedz:\u001b[0m\n\u001b[0m                         ^\u001b[0m\n\u001b[0;31mSyntaxError\u001b[0m\u001b[0;31m:\u001b[0m invalid syntax\n"
     ]
    }
   ],
   "source": [
    "class ProgramZCzasem:\n",
    "    pozycjaMenu = []\n",
    "    kolumnyInt = [\"Clothing ID\",\"Age\",\"Rating\",\"Recommended IND\",\"Positive Feedback Count\"]\n",
    "    \n",
    "    def __init__(self, sciezkaDoDanych):\n",
    "        self.dane = pd.read_csv(sciezkaDoDanych)\n",
    "    \n",
    "    def poprosOOdp(self, odpowiedz, odpowiedzJestLiczba = True):\n",
    "        pass\n",
    "    \n",
    "    def zwalidujOdpowiedz:\n",
    "        pass\n",
    "    \n",
    "    def wyswietlMenu(self, ):\n",
    "        pass\n",
    "        "
   ]
  },
  {
   "cell_type": "code",
   "execution_count": null,
   "metadata": {},
   "outputs": [],
   "source": [
    "ProgramZCzasem = "
   ]
  }
 ],
 "metadata": {
  "kernelspec": {
   "display_name": "Python 3",
   "language": "python",
   "name": "python3"
  },
  "language_info": {
   "codemirror_mode": {
    "name": "ipython",
    "version": 3
   },
   "file_extension": ".py",
   "mimetype": "text/x-python",
   "name": "python",
   "nbconvert_exporter": "python",
   "pygments_lexer": "ipython3",
   "version": "3.7.1"
  }
 },
 "nbformat": 4,
 "nbformat_minor": 2
}
