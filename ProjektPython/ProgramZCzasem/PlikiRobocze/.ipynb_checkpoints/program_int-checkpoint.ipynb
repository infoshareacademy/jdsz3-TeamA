{
 "cells": [
  {
   "cell_type": "code",
   "execution_count": 59,
   "metadata": {
    "scrolled": true
   },
   "outputs": [
    {
     "name": "stdout",
     "output_type": "stream",
     "text": [
      "Świetnie !\n",
      "\n",
      "Czyli chcesz wiedzieć więcej o liczbach w naszej tabeli, a oto i dostępne kolumny\n",
      "\n",
      "1 Clothing ID\n",
      "2 Age\n",
      "3 Rating\n",
      "4 Recommended IND\n",
      "5 Positive Feedback Count\n",
      "\n",
      "Wybierz interesującą Cię kolumnę\n",
      "5\n",
      "Wybrana kolumna to: Positive Feedback Count \n",
      "Jakiej informacji potrzebujesz ?\n",
      "\n",
      "1. Wszystkie dane z kolumny\n",
      "2. Szczegółowe dane statystyczne\n",
      "3. Wykres skrzynkowy\n",
      "4. Rozkład obserwacji\n",
      "5. Jądrowy estymator gęstości \n",
      "5\n"
     ]
    },
    {
     "data": {
      "image/png": "[encoded data removed]",
      "text/plain": [
       "<Figure size 432x288 with 1 Axes>"
      ]
     },
     "metadata": {
      "needs_background": "light"
     },
     "output_type": "display_data"
    }
   ],
   "source": [
    "# import pakietów\n",
    "import matplotlib.pyplot as plt\n",
    "import pandas as pd\n",
    "import seaborn as sns\n",
    "import numpy as np\n",
    "\n",
    "# import danych\n",
    "df = pd.read_csv(\"Womens Clothing E-Commerce Reviews.csv\") \n",
    "\n",
    "# przycięcie danych do kolumn zawierających inty\n",
    "df = df[[\"Clothing ID\",\"Age\",\"Rating\",\"Recommended IND\",\"Positive Feedback Count\"]]\n",
    "df = pd.DataFrame(df)\n",
    "# kolumna pomocnicza z nagłówkami tabeli\n",
    "cols = df.columns.values\n",
    "\n",
    "print(\"Świetnie !\\n\\nCzyli chcesz wiedzieć więcej o liczbach w naszej tabeli, a oto i dostępne kolumny\\n\")\n",
    "# lista opcji przypisująca numer do kolumny \n",
    "for i in range(len(cols)): print(i+1,cols[i]) \n",
    "print(\"\\nWybierz interesującą Cię kolumnę\")\n",
    "# zmienna na kolumnę\n",
    "WYBOR_KOLUMNY = input()\n",
    "\n",
    "# obsłużenie innych inputów niż liczny\n",
    "if WYBOR_KOLUMNY.isdigit() == False:\n",
    "    print(\"Ups! Wybierz wartość z listy aby przejść dalej\")\n",
    "WYBOR_KOLUMNY = int(WYBOR_KOLUMNY)\n",
    "\n",
    "# obsłużenie inputów większych niż 5 - tyle jest kolumn z intami\n",
    "if WYBOR_INFORMACJI > 5:\n",
    "    print(\"Ups! Wybierz wartość z listy aby przejść dalej\")\n",
    "\n",
    "# lista opcji do wyboru po wybraniu kolumny - na razie tylko 5\n",
    "print(\"Wybrana kolumna to:\",cols[WYBOR_KOLUMNY-1],\"\\nJakiej informacji potrzebujesz ?\\n\")  \n",
    "print(\"1. Wszystkie dane z kolumny\\n2. Szczegółowe dane statystyczne\\n3. Wykres skrzynkowy\\n4. Rozkład obserwacji\\n5. Jądrowy estymator gęstości \")\n",
    "\n",
    "WYBOR_INFORMACJI = input()\n",
    "\n",
    "# obsługa nie intów i intów większych niż 5 dla wyboru opcji\n",
    "if WYBOR_INFORMACJI.isdigit() == False:\n",
    "    print(\"Ups! Wybierz wartość z listy aby przejść dalej\")\n",
    "WYBOR_INFORMACJI = int(WYBOR_INFORMACJI)\n",
    "if WYBOR_INFORMACJI > 5:\n",
    "    print(\"Ups! Wybierz wartość z listy aby przejść dalej\")\n",
    "\n",
    "# if zwracający już wybraną opcję prezentacji danych dla wybranej wcześniej kolumny\n",
    "if WYBOR_INFORMACJI == 1:\n",
    "    print(\"LP.\",cols[WYBOR_KOLUMNY-1])\n",
    "    print(df[cols[WYBOR_INFORMACJI-1]])\n",
    "elif WYBOR_INFORMACJI == 2:\n",
    "    print(df.loc[:,cols[WYBOR_KOLUMNY-1]].describe())\n",
    "elif WYBOR_INFORMACJI == 3:\n",
    "    color = dict(markerfacecolor='r', marker='s')\n",
    "    fig2, ax2 = plt.subplots()\n",
    "    ax2.set_title(cols[WYBOR_KOLUMNY-1])\n",
    "    ax2.boxplot(df[cols[WYBOR_KOLUMNY-1]], notch=True, vert=False, flierprops=color)\n",
    "    plt.show()\n",
    "elif WYBOR_INFORMACJI == 4:\n",
    "    sns.distplot(df[cols[WYBOR_KOLUMNY-1]])\n",
    "    plt.show()\n",
    "elif WYBOR_INFORMACJI == 5:\n",
    "    sns.distplot(df[cols[WYBOR_KOLUMNY-1]], kde=True,kde_kws={\"color\": \"b\", \"alpha\":0.3, \"linewidth\": 5, \"shade\":True })\n",
    "    plt.show()"
   ]
  },
  {
   "cell_type": "code",
   "execution_count": null,
   "metadata": {},
   "outputs": [],
   "source": []
  }
 ],
 "metadata": {
  "kernelspec": {
   "display_name": "Python 3",
   "language": "python",
   "name": "python3"
  },
  "language_info": {
   "codemirror_mode": {
    "name": "ipython",
    "version": 3
   },
   "file_extension": ".py",
   "mimetype": "text/x-python",
   "name": "python",
   "nbconvert_exporter": "python",
   "pygments_lexer": "ipython3",
   "version": "3.7.1"
  }
 },
 "nbformat": 4,
 "nbformat_minor": 2
}
